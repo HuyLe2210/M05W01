{
 "cells": [
  {
   "cell_type": "code",
   "execution_count": 3,
   "metadata": {},
   "outputs": [],
   "source": [
    "import pandas as pd\n",
    "import numpy as np\n",
    "import re\n",
    "import nltk\n",
    "import matplotlib.pyplot as plt\n",
    "\n",
    "from sklearn.model_selection import train_test_split\n",
    "from sklearn.preprocessing import StandardScaler\n",
    "from nltk.tokenize import TweetTokenizer\n",
    "from collections import defaultdict"
   ]
  },
  {
   "cell_type": "code",
   "execution_count": 4,
   "metadata": {},
   "outputs": [],
   "source": [
    "data_set_path = 'sentiment_analysis.csv'\n",
    "df = pd.read_csv(\n",
    "    data_set_path,\n",
    "    index_col='id'\n",
    ")"
   ]
  },
  {
   "cell_type": "code",
   "execution_count": 5,
   "metadata": {},
   "outputs": [
    {
     "data": {
      "text/html": [
       "<div>\n",
       "<style scoped>\n",
       "    .dataframe tbody tr th:only-of-type {\n",
       "        vertical-align: middle;\n",
       "    }\n",
       "\n",
       "    .dataframe tbody tr th {\n",
       "        vertical-align: top;\n",
       "    }\n",
       "\n",
       "    .dataframe thead th {\n",
       "        text-align: right;\n",
       "    }\n",
       "</style>\n",
       "<table border=\"1\" class=\"dataframe\">\n",
       "  <thead>\n",
       "    <tr style=\"text-align: right;\">\n",
       "      <th></th>\n",
       "      <th>label</th>\n",
       "      <th>tweet</th>\n",
       "    </tr>\n",
       "    <tr>\n",
       "      <th>id</th>\n",
       "      <th></th>\n",
       "      <th></th>\n",
       "    </tr>\n",
       "  </thead>\n",
       "  <tbody>\n",
       "    <tr>\n",
       "      <th>1</th>\n",
       "      <td>0</td>\n",
       "      <td>#fingerprint #Pregnancy Test https://goo.gl/h1...</td>\n",
       "    </tr>\n",
       "    <tr>\n",
       "      <th>2</th>\n",
       "      <td>0</td>\n",
       "      <td>Finally a transparant silicon case ^^ Thanks t...</td>\n",
       "    </tr>\n",
       "    <tr>\n",
       "      <th>3</th>\n",
       "      <td>0</td>\n",
       "      <td>We love this! Would you go? #talk #makememorie...</td>\n",
       "    </tr>\n",
       "    <tr>\n",
       "      <th>4</th>\n",
       "      <td>0</td>\n",
       "      <td>I'm wired I know I'm George I was made that wa...</td>\n",
       "    </tr>\n",
       "    <tr>\n",
       "      <th>5</th>\n",
       "      <td>1</td>\n",
       "      <td>What amazing service! Apple won't even talk to...</td>\n",
       "    </tr>\n",
       "    <tr>\n",
       "      <th>...</th>\n",
       "      <td>...</td>\n",
       "      <td>...</td>\n",
       "    </tr>\n",
       "    <tr>\n",
       "      <th>7916</th>\n",
       "      <td>0</td>\n",
       "      <td>Live out loud #lol #liveoutloud #selfie #smile...</td>\n",
       "    </tr>\n",
       "    <tr>\n",
       "      <th>7917</th>\n",
       "      <td>0</td>\n",
       "      <td>We would like to wish you an amazing day! Make...</td>\n",
       "    </tr>\n",
       "    <tr>\n",
       "      <th>7918</th>\n",
       "      <td>0</td>\n",
       "      <td>Helping my lovely 90 year old neighbor with he...</td>\n",
       "    </tr>\n",
       "    <tr>\n",
       "      <th>7919</th>\n",
       "      <td>0</td>\n",
       "      <td>Finally got my #smart #pocket #wifi stay conne...</td>\n",
       "    </tr>\n",
       "    <tr>\n",
       "      <th>7920</th>\n",
       "      <td>0</td>\n",
       "      <td>Apple Barcelona!!! #Apple #Store #BCN #Barcelo...</td>\n",
       "    </tr>\n",
       "  </tbody>\n",
       "</table>\n",
       "<p>7920 rows × 2 columns</p>\n",
       "</div>"
      ],
      "text/plain": [
       "      label                                              tweet\n",
       "id                                                            \n",
       "1         0  #fingerprint #Pregnancy Test https://goo.gl/h1...\n",
       "2         0  Finally a transparant silicon case ^^ Thanks t...\n",
       "3         0  We love this! Would you go? #talk #makememorie...\n",
       "4         0  I'm wired I know I'm George I was made that wa...\n",
       "5         1  What amazing service! Apple won't even talk to...\n",
       "...     ...                                                ...\n",
       "7916      0  Live out loud #lol #liveoutloud #selfie #smile...\n",
       "7917      0  We would like to wish you an amazing day! Make...\n",
       "7918      0  Helping my lovely 90 year old neighbor with he...\n",
       "7919      0  Finally got my #smart #pocket #wifi stay conne...\n",
       "7920      0  Apple Barcelona!!! #Apple #Store #BCN #Barcelo...\n",
       "\n",
       "[7920 rows x 2 columns]"
      ]
     },
     "execution_count": 5,
     "metadata": {},
     "output_type": "execute_result"
    }
   ],
   "source": [
    "df"
   ]
  },
  {
   "cell_type": "code",
   "execution_count": 11,
   "metadata": {},
   "outputs": [],
   "source": [
    "def text_normalize(text):\n",
    "    # Retweet old acronym \"RT\" removal\n",
    "    text = re.sub(r'~RT[\\s]+', '', text)\n",
    "\n",
    "    # Hyperlinks removal\n",
    "    text = re.sub(r'https?:\\/\\/.*[\\r\\n]*', '', text)\n",
    "\n",
    "    # Punctuation removal\n",
    "    text = re.sub(r'[^\\w\\s]', '', text)\n",
    "\n",
    "    # Hashtag removal\n",
    "    text = re.sub(r'#', '', text)\n",
    "\n",
    "    # Tokenization\n",
    "    tokenizer = TweetTokenizer(\n",
    "        preserve_case=False,\n",
    "        strip_handles=True,\n",
    "        reduce_len=True\n",
    "    )\n",
    "    text_tokens = tokenizer.tokenize(text)\n",
    "\n",
    "    return text_tokens"
   ]
  },
  {
   "cell_type": "code",
   "execution_count": 12,
   "metadata": {},
   "outputs": [],
   "source": [
    "def get_freqs(df):\n",
    "    freqs = defaultdict(lambda: 0)\n",
    "    for idx, row in df.iterrows():\n",
    "        tweet = row['tweet']\n",
    "        label = row['label']\n",
    "\n",
    "        tokens = text_normalize(tweet)\n",
    "        for token in tokens:\n",
    "            pair = (token, label)\n",
    "            freqs[pair] += 1\n",
    "            \n",
    "    return freqs"
   ]
  },
  {
   "cell_type": "code",
   "execution_count": 13,
   "metadata": {},
   "outputs": [],
   "source": [
    "def get_feature(text, freqs):\n",
    "    tokens = text_normalize(text)\n",
    "\n",
    "    X = np.zeros(3)\n",
    "    X[0] = 1\n",
    "    for token in tokens:\n",
    "        X[1] += freqs[(token, 0)]\n",
    "        X[2] += freqs[(token, 1)]\n",
    "    return X"
   ]
  },
  {
   "cell_type": "code",
   "execution_count": 14,
   "metadata": {},
   "outputs": [],
   "source": [
    "X = []\n",
    "y = []\n",
    "\n",
    "freqs = get_freqs(df)\n",
    "for idx, row in df.iterrows():\n",
    "    tweet = row['tweet']\n",
    "    label = row['label']\n",
    "\n",
    "    X_i = get_feature(tweet, freqs)\n",
    "    X.append(X_i)\n",
    "    y.append(label)\n",
    "X = np.array(X)\n",
    "y = np.array(y)"
   ]
  },
  {
   "cell_type": "code",
   "execution_count": 46,
   "metadata": {},
   "outputs": [
    {
     "data": {
      "text/plain": [
       "array([[1.000e+00, 1.300e+01, 2.000e+00],\n",
       "       [1.000e+00, 4.183e+03, 2.788e+03],\n",
       "       [1.000e+00, 4.768e+03, 1.425e+03],\n",
       "       [1.000e+00, 6.101e+03, 3.153e+03],\n",
       "       [1.000e+00, 7.055e+03, 6.231e+03],\n",
       "       [1.000e+00, 4.950e+03, 2.521e+03],\n",
       "       [1.000e+00, 1.850e+03, 5.310e+02],\n",
       "       [1.000e+00, 1.000e+03, 2.730e+02],\n",
       "       [1.000e+00, 5.203e+03, 2.830e+03],\n",
       "       [1.000e+00, 2.224e+03, 1.230e+02]])"
      ]
     },
     "execution_count": 46,
     "metadata": {},
     "output_type": "execute_result"
    }
   ],
   "source": [
    "X[:10]"
   ]
  },
  {
   "cell_type": "code",
   "execution_count": 44,
   "metadata": {},
   "outputs": [
    {
     "data": {
      "text/plain": [
       "array([0, 0, 0, 0, 1, 1, 0, 0, 0, 0, 1, 1, 1, 0, 1, 0, 0, 0, 1, 1, 0, 0,\n",
       "       1, 1, 0, 0, 1, 1, 0, 0, 0, 0, 0, 0, 0, 0, 1, 1, 1, 0, 0, 0, 0, 0,\n",
       "       0, 0, 1, 0, 0, 0, 0, 0, 0, 0, 0, 0, 0, 1, 1, 1, 0, 0, 0, 0, 0, 0,\n",
       "       0, 0, 0, 0, 0, 0, 0, 1, 0, 0, 1, 0, 0, 0, 1, 0, 1, 0, 0, 0, 0, 1,\n",
       "       0, 0, 0, 0, 1, 1, 1, 0, 0, 0, 0, 0])"
      ]
     },
     "execution_count": 44,
     "metadata": {},
     "output_type": "execute_result"
    }
   ],
   "source": [
    "y[:100]"
   ]
  },
  {
   "cell_type": "code",
   "execution_count": 16,
   "metadata": {},
   "outputs": [],
   "source": [
    "val_size = 0.2\n",
    "test_size = 0.125\n",
    "random_state = 2\n",
    "is_shuffle = True\n",
    "\n",
    "X_train, X_val, y_train, y_val = train_test_split(\n",
    "    X, y,\n",
    "    test_size=val_size,\n",
    "    random_state=random_state,\n",
    "    shuffle=is_shuffle\n",
    ")\n",
    "\n",
    "X_train, X_test, y_train, y_test = train_test_split(\n",
    "    X_train, y_train,\n",
    "    test_size=test_size,\n",
    "    random_state=random_state,\n",
    "    shuffle=is_shuffle\n",
    ")"
   ]
  },
  {
   "cell_type": "code",
   "execution_count": 17,
   "metadata": {},
   "outputs": [],
   "source": [
    "normalizer = StandardScaler()\n",
    "X_train[:, 1:] = normalizer.fit_transform(X_train[:, 1:])\n",
    "X_val[:, 1:] = normalizer.transform(X_val[:, 1:])\n",
    "X_test[:, 1:] = normalizer.transform(X_test[:, 1:])"
   ]
  },
  {
   "cell_type": "code",
   "execution_count": 18,
   "metadata": {},
   "outputs": [],
   "source": [
    "def sigmoid(z):\n",
    "    return 1 / (1 + np.exp(-z))\n",
    "def predict(X, theta):\n",
    "    dot_product = np.dot(X, theta)\n",
    "    y_hat = sigmoid(dot_product)\n",
    "\n",
    "    return y_hat\n",
    "def compute_loss(y_hat, y):\n",
    "    y_hat = np.clip(\n",
    "        y_hat, 1e-7, 1- 1e-7\n",
    "    )\n",
    "    return (\n",
    "        -y * \\\n",
    "        np.log(y_hat) - (1-y) * \\\n",
    "        np.log(1 - y_hat)\n",
    "    ).mean()\n",
    "def compute_gradient(X, y, y_hat):\n",
    "    return np.dot(\n",
    "        X.T, (y_hat - y)\n",
    "    ) / y.size\n",
    "def update_theta(theta, gradient, lr):\n",
    "    return theta - lr * gradient\n",
    "def compute_accuracy(X, y, theta):\n",
    "    y_hat = predict(X, theta).round()\n",
    "    acc = (y_hat == y).mean()\n",
    "\n",
    "    return acc"
   ]
  },
  {
   "cell_type": "code",
   "execution_count": 19,
   "metadata": {},
   "outputs": [],
   "source": [
    "lr = 0.01\n",
    "epochs = 100\n",
    "batch_size = 128\n",
    "\n",
    "np.random.seed(random_state)\n",
    "theta = np.random.uniform(\n",
    "    size=X_train.shape[1]\n",
    ")"
   ]
  },
  {
   "cell_type": "code",
   "execution_count": 20,
   "metadata": {},
   "outputs": [
    {
     "name": "stdout",
     "output_type": "stream",
     "text": [
      "\n",
      "EPOCH 1:\tTraining loss : 0.707\tValidation loss : 0.704\n",
      "\n",
      "EPOCH 2:\tTraining loss : 0.661\tValidation loss : 0.659\n",
      "\n",
      "EPOCH 3:\tTraining loss : 0.624\tValidation loss : 0.622\n",
      "\n",
      "EPOCH 4:\tTraining loss : 0.594\tValidation loss : 0.591\n",
      "\n",
      "EPOCH 5:\tTraining loss : 0.569\tValidation loss : 0.566\n",
      "\n",
      "EPOCH 6:\tTraining loss : 0.548\tValidation loss : 0.546\n",
      "\n",
      "EPOCH 7:\tTraining loss : 0.531\tValidation loss : 0.528\n",
      "\n",
      "EPOCH 8:\tTraining loss : 0.516\tValidation loss : 0.514\n",
      "\n",
      "EPOCH 9:\tTraining loss : 0.504\tValidation loss : 0.502\n",
      "\n",
      "EPOCH 10:\tTraining loss : 0.494\tValidation loss : 0.491\n",
      "\n",
      "EPOCH 11:\tTraining loss : 0.485\tValidation loss : 0.483\n",
      "\n",
      "EPOCH 12:\tTraining loss : 0.477\tValidation loss : 0.475\n",
      "\n",
      "EPOCH 13:\tTraining loss : 0.471\tValidation loss : 0.468\n",
      "\n",
      "EPOCH 14:\tTraining loss : 0.465\tValidation loss : 0.463\n",
      "\n",
      "EPOCH 15:\tTraining loss : 0.460\tValidation loss : 0.457\n",
      "\n",
      "EPOCH 16:\tTraining loss : 0.456\tValidation loss : 0.453\n",
      "\n",
      "EPOCH 17:\tTraining loss : 0.452\tValidation loss : 0.449\n",
      "\n",
      "EPOCH 18:\tTraining loss : 0.448\tValidation loss : 0.445\n",
      "\n",
      "EPOCH 19:\tTraining loss : 0.445\tValidation loss : 0.442\n",
      "\n",
      "EPOCH 20:\tTraining loss : 0.442\tValidation loss : 0.439\n",
      "\n",
      "EPOCH 21:\tTraining loss : 0.440\tValidation loss : 0.437\n",
      "\n",
      "EPOCH 22:\tTraining loss : 0.437\tValidation loss : 0.434\n",
      "\n",
      "EPOCH 23:\tTraining loss : 0.435\tValidation loss : 0.432\n",
      "\n",
      "EPOCH 24:\tTraining loss : 0.433\tValidation loss : 0.430\n",
      "\n",
      "EPOCH 25:\tTraining loss : 0.431\tValidation loss : 0.428\n",
      "\n",
      "EPOCH 26:\tTraining loss : 0.430\tValidation loss : 0.426\n",
      "\n",
      "EPOCH 27:\tTraining loss : 0.428\tValidation loss : 0.425\n",
      "\n",
      "EPOCH 28:\tTraining loss : 0.427\tValidation loss : 0.423\n",
      "\n",
      "EPOCH 29:\tTraining loss : 0.425\tValidation loss : 0.422\n",
      "\n",
      "EPOCH 30:\tTraining loss : 0.424\tValidation loss : 0.420\n",
      "\n",
      "EPOCH 31:\tTraining loss : 0.423\tValidation loss : 0.419\n",
      "\n",
      "EPOCH 32:\tTraining loss : 0.421\tValidation loss : 0.418\n",
      "\n",
      "EPOCH 33:\tTraining loss : 0.420\tValidation loss : 0.417\n",
      "\n",
      "EPOCH 34:\tTraining loss : 0.419\tValidation loss : 0.416\n",
      "\n",
      "EPOCH 35:\tTraining loss : 0.418\tValidation loss : 0.415\n",
      "\n",
      "EPOCH 36:\tTraining loss : 0.417\tValidation loss : 0.414\n",
      "\n",
      "EPOCH 37:\tTraining loss : 0.416\tValidation loss : 0.413\n",
      "\n",
      "EPOCH 38:\tTraining loss : 0.415\tValidation loss : 0.412\n",
      "\n",
      "EPOCH 39:\tTraining loss : 0.414\tValidation loss : 0.411\n",
      "\n",
      "EPOCH 40:\tTraining loss : 0.414\tValidation loss : 0.410\n",
      "\n",
      "EPOCH 41:\tTraining loss : 0.413\tValidation loss : 0.409\n",
      "\n",
      "EPOCH 42:\tTraining loss : 0.412\tValidation loss : 0.408\n",
      "\n",
      "EPOCH 43:\tTraining loss : 0.411\tValidation loss : 0.408\n",
      "\n",
      "EPOCH 44:\tTraining loss : 0.411\tValidation loss : 0.407\n",
      "\n",
      "EPOCH 45:\tTraining loss : 0.410\tValidation loss : 0.406\n",
      "\n",
      "EPOCH 46:\tTraining loss : 0.409\tValidation loss : 0.405\n",
      "\n",
      "EPOCH 47:\tTraining loss : 0.408\tValidation loss : 0.405\n",
      "\n",
      "EPOCH 48:\tTraining loss : 0.408\tValidation loss : 0.404\n",
      "\n",
      "EPOCH 49:\tTraining loss : 0.407\tValidation loss : 0.403\n",
      "\n",
      "EPOCH 50:\tTraining loss : 0.407\tValidation loss : 0.403\n",
      "\n",
      "EPOCH 51:\tTraining loss : 0.406\tValidation loss : 0.402\n",
      "\n",
      "EPOCH 52:\tTraining loss : 0.405\tValidation loss : 0.402\n",
      "\n",
      "EPOCH 53:\tTraining loss : 0.405\tValidation loss : 0.401\n",
      "\n",
      "EPOCH 54:\tTraining loss : 0.404\tValidation loss : 0.400\n",
      "\n",
      "EPOCH 55:\tTraining loss : 0.404\tValidation loss : 0.400\n",
      "\n",
      "EPOCH 56:\tTraining loss : 0.403\tValidation loss : 0.399\n",
      "\n",
      "EPOCH 57:\tTraining loss : 0.403\tValidation loss : 0.399\n",
      "\n",
      "EPOCH 58:\tTraining loss : 0.402\tValidation loss : 0.398\n",
      "\n",
      "EPOCH 59:\tTraining loss : 0.402\tValidation loss : 0.398\n",
      "\n",
      "EPOCH 60:\tTraining loss : 0.401\tValidation loss : 0.397\n",
      "\n",
      "EPOCH 61:\tTraining loss : 0.401\tValidation loss : 0.397\n",
      "\n",
      "EPOCH 62:\tTraining loss : 0.401\tValidation loss : 0.396\n",
      "\n",
      "EPOCH 63:\tTraining loss : 0.400\tValidation loss : 0.396\n",
      "\n",
      "EPOCH 64:\tTraining loss : 0.400\tValidation loss : 0.396\n",
      "\n",
      "EPOCH 65:\tTraining loss : 0.399\tValidation loss : 0.395\n",
      "\n",
      "EPOCH 66:\tTraining loss : 0.399\tValidation loss : 0.395\n",
      "\n",
      "EPOCH 67:\tTraining loss : 0.398\tValidation loss : 0.394\n",
      "\n",
      "EPOCH 68:\tTraining loss : 0.398\tValidation loss : 0.394\n",
      "\n",
      "EPOCH 69:\tTraining loss : 0.398\tValidation loss : 0.394\n",
      "\n",
      "EPOCH 70:\tTraining loss : 0.397\tValidation loss : 0.393\n",
      "\n",
      "EPOCH 71:\tTraining loss : 0.397\tValidation loss : 0.393\n",
      "\n",
      "EPOCH 72:\tTraining loss : 0.397\tValidation loss : 0.392\n",
      "\n",
      "EPOCH 73:\tTraining loss : 0.396\tValidation loss : 0.392\n",
      "\n",
      "EPOCH 74:\tTraining loss : 0.396\tValidation loss : 0.392\n",
      "\n",
      "EPOCH 75:\tTraining loss : 0.396\tValidation loss : 0.391\n",
      "\n",
      "EPOCH 76:\tTraining loss : 0.395\tValidation loss : 0.391\n",
      "\n",
      "EPOCH 77:\tTraining loss : 0.395\tValidation loss : 0.391\n",
      "\n",
      "EPOCH 78:\tTraining loss : 0.395\tValidation loss : 0.390\n",
      "\n",
      "EPOCH 79:\tTraining loss : 0.394\tValidation loss : 0.390\n",
      "\n",
      "EPOCH 80:\tTraining loss : 0.394\tValidation loss : 0.390\n",
      "\n",
      "EPOCH 81:\tTraining loss : 0.394\tValidation loss : 0.389\n",
      "\n",
      "EPOCH 82:\tTraining loss : 0.394\tValidation loss : 0.389\n",
      "\n",
      "EPOCH 83:\tTraining loss : 0.393\tValidation loss : 0.389\n",
      "\n",
      "EPOCH 84:\tTraining loss : 0.393\tValidation loss : 0.389\n",
      "\n",
      "EPOCH 85:\tTraining loss : 0.393\tValidation loss : 0.388\n",
      "\n",
      "EPOCH 86:\tTraining loss : 0.392\tValidation loss : 0.388\n",
      "\n",
      "EPOCH 87:\tTraining loss : 0.392\tValidation loss : 0.388\n",
      "\n",
      "EPOCH 88:\tTraining loss : 0.392\tValidation loss : 0.388\n",
      "\n",
      "EPOCH 89:\tTraining loss : 0.392\tValidation loss : 0.387\n",
      "\n",
      "EPOCH 90:\tTraining loss : 0.391\tValidation loss : 0.387\n",
      "\n",
      "EPOCH 91:\tTraining loss : 0.391\tValidation loss : 0.387\n",
      "\n",
      "EPOCH 92:\tTraining loss : 0.391\tValidation loss : 0.387\n",
      "\n",
      "EPOCH 93:\tTraining loss : 0.391\tValidation loss : 0.386\n",
      "\n",
      "EPOCH 94:\tTraining loss : 0.391\tValidation loss : 0.386\n",
      "\n",
      "EPOCH 95:\tTraining loss : 0.390\tValidation loss : 0.386\n",
      "\n",
      "EPOCH 96:\tTraining loss : 0.390\tValidation loss : 0.386\n",
      "\n",
      "EPOCH 97:\tTraining loss : 0.390\tValidation loss : 0.385\n",
      "\n",
      "EPOCH 98:\tTraining loss : 0.390\tValidation loss : 0.385\n",
      "\n",
      "EPOCH 99:\tTraining loss : 0.389\tValidation loss : 0.385\n",
      "\n",
      "EPOCH 100:\tTraining loss : 0.389\tValidation loss : 0.385\n"
     ]
    }
   ],
   "source": [
    "train_accs = []\n",
    "train_losses = []\n",
    "val_accs = []\n",
    "val_losses = []\n",
    "\n",
    "for epoch in range(epochs):\n",
    "    train_batch_losses = []\n",
    "    train_batch_accs = []\n",
    "    val_batch_losses = []\n",
    "    val_batch_accs = []\n",
    "\n",
    "    for i in range(0, X_train.shape[0], batch_size):\n",
    "        X_i = X_train[i:i+batch_size]\n",
    "        y_i = y_train[i:i+batch_size]\n",
    "\n",
    "        y_hat = predict(X_i ,theta)\n",
    "\n",
    "        train_loss = compute_loss(y_hat, y_i)\n",
    "\n",
    "        gradient = compute_gradient(X_i, y_i, y_hat)\n",
    "\n",
    "        theta = update_theta(theta, gradient, lr)\n",
    "\n",
    "        train_batch_losses.append(train_loss)\n",
    "\n",
    "        train_acc = compute_accuracy(X_train, y_train, theta)\n",
    "        train_batch_accs.append(train_acc)\n",
    "\n",
    "        y_val_hat = predict(X_val, theta)\n",
    "        val_loss = compute_loss(y_val_hat, y_val)\n",
    "        val_batch_losses.append(val_loss)\n",
    "\n",
    "        val_acc = compute_accuracy(X_val, y_val, theta)\n",
    "        val_batch_accs.append(val_acc)\n",
    "    train_batch_loss = sum(train_batch_losses) / len(train_batch_losses)\n",
    "    val_batch_loss = sum(val_batch_losses) / len(val_batch_losses)\n",
    "    train_batch_acc = sum(train_batch_accs) / len(train_batch_accs)\n",
    "    val_batch_acc = sum(val_batch_accs) / len(val_batch_accs)\n",
    "\n",
    "    train_losses.append(train_batch_loss)\n",
    "    val_losses.append(val_batch_loss)\n",
    "    train_accs.append(train_batch_acc)\n",
    "    val_accs.append(val_batch_acc)\n",
    "\n",
    "    print (f'\\nEPOCH { epoch + 1}:\\tTraining loss : {train_batch_loss :.3f}\\tValidation loss : {val_batch_loss :.3f}')\n"
   ]
  },
  {
   "cell_type": "code",
   "execution_count": 21,
   "metadata": {},
   "outputs": [
    {
     "data": {
      "image/png": "[encoded data removed]",
      "text/plain": [
       "<Figure size 1200x1000 with 4 Axes>"
      ]
     },
     "metadata": {},
     "output_type": "display_data"
    }
   ],
   "source": [
    "fig, ax = plt.subplots(2, 2, figsize=(12, 10))\n",
    "ax[0, 0].plot(train_losses)\n",
    "ax[0, 0].set(xlabel='Epoch', ylabel='Loss')\n",
    "ax[0, 0].set_title('Training Loss')\n",
    "\n",
    "ax[0, 1].plot(val_losses, 'orange')\n",
    "ax[0, 1].set(xlabel='Epoch', ylabel='Loss')\n",
    "ax[0, 1].set_title('Validation Loss')\n",
    "\n",
    "ax[1, 0].plot(train_accs)\n",
    "ax[1, 0].set(xlabel='Epoch', ylabel='Accuracy')\n",
    "ax[1, 0].set_title('Training Accuracy')\n",
    "\n",
    "ax[1, 1].plot(val_accs)\n",
    "ax[1, 1].set(xlabel='Epoch', ylabel='Accuracy')\n",
    "ax[1, 1].set_title('Valididation Accuracy')\n",
    "\n",
    "plt.show()"
   ]
  },
  {
   "cell_type": "code",
   "execution_count": 22,
   "metadata": {},
   "outputs": [
    {
     "name": "stdout",
     "output_type": "stream",
     "text": [
      "Evaluation on validation and test set :\n",
      "Accuracy : 0.8118686868686869\n",
      "Accuracy : 0.8371212121212122\n"
     ]
    }
   ],
   "source": [
    "val_set_acc = compute_accuracy(X_val, y_val, theta)\n",
    "test_set_acc = compute_accuracy(X_test, y_test, theta)\n",
    "print('Evaluation on validation and test set :')\n",
    "print(f'Accuracy : {val_set_acc}')\n",
    "print(f'Accuracy : {test_set_acc}')"
   ]
  },
  {
   "cell_type": "code",
   "execution_count": 23,
   "metadata": {},
   "outputs": [
    {
     "data": {
      "text/plain": [
       "array([0.92988994])"
      ]
     },
     "execution_count": 23,
     "metadata": {},
     "output_type": "execute_result"
    }
   ],
   "source": [
    "X_test = [[22.3, -1.5, 1.1, 1]]\n",
    "theta_test = [0.1, -0.15, 0.3, -0.2]\n",
    "\n",
    "predict(X_test, theta_test)"
   ]
  },
  {
   "cell_type": "code",
   "execution_count": 25,
   "metadata": {},
   "outputs": [
    {
     "data": {
      "text/plain": [
       "np.float64(0.5043515376900958)"
      ]
     },
     "execution_count": 25,
     "metadata": {},
     "output_type": "execute_result"
    }
   ],
   "source": [
    "y_test = np.array([1, 0, 0, 1])\n",
    "y_hat_test = np.array([0.8, 0.75, 0.3, 0.95])\n",
    "\n",
    "compute_loss(y_hat_test, y_test)"
   ]
  },
  {
   "cell_type": "code",
   "execution_count": null,
   "metadata": {},
   "outputs": [
    {
     "name": "stdout",
     "output_type": "stream",
     "text": [
      "Gradient: [-0.0625  0.0625]\n"
     ]
    }
   ],
   "source": [
    "\n",
    "X_test = np.array([[1, 2], [2, 1], [1, 1], [2, 2]])\n",
    "y_test = np.array([0, 1, 0, 1])\n",
    "y_pred_test = np.array([0.25, 0.75, 0.4, 0.8])\n",
    "\n",
    "\n",
    "gradient = compute_gradient(X_test, y_test, y_pred_test)\n",
    "print(\"Gradient:\", gradient)"
   ]
  },
  {
   "cell_type": "code",
   "execution_count": 38,
   "metadata": {},
   "outputs": [
    {
     "data": {
      "text/plain": [
       "np.float64(1.0)"
      ]
     },
     "execution_count": 38,
     "metadata": {},
     "output_type": "execute_result"
    }
   ],
   "source": [
    "y_true = [1, 0, 1, 1]\n",
    "y_pred = [0.85, 0.35, 0.9, 0.75]\n",
    "\n",
    "def compute_accuracy(y_true , y_pred):\n",
    "    y_pred_rounded = np.round(y_pred)\n",
    "    accuracy = np.mean( y_true == y_pred_rounded )\n",
    "\n",
    "    return accuracy\n",
    "compute_accuracy(y_true, y_pred)"
   ]
  },
  {
   "cell_type": "code",
   "execution_count": 39,
   "metadata": {},
   "outputs": [
    {
     "name": "stdout",
     "output_type": "stream",
     "text": [
      "Gradient: [-0.2125 -0.4   ]\n"
     ]
    }
   ],
   "source": [
    "\n",
    "X_test = np.array([[1, 3], [2, 1], [3, 2], [1, 2]])\n",
    "y_test = np.array([1, 0, 1, 1])\n",
    "y_pred_test = np.array([0.7, 0.4, 0.6, 0.85])\n",
    "\n",
    "# Tính gradient\n",
    "gradient = compute_gradient(X_test, y_test, y_pred_test)\n",
    "print(\"Gradient:\", gradient)"
   ]
  }
 ],
 "metadata": {
  "kernelspec": {
   "display_name": "Python 3",
   "language": "python",
   "name": "python3"
  },
  "language_info": {
   "codemirror_mode": {
    "name": "ipython",
    "version": 3
   },
   "file_extension": ".py",
   "mimetype": "text/x-python",
   "name": "python",
   "nbconvert_exporter": "python",
   "pygments_lexer": "ipython3",
   "version": "3.11.5"
  }
 },
 "nbformat": 4,
 "nbformat_minor": 2
}
